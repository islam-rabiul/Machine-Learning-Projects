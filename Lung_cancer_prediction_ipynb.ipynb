{
  "nbformat": 4,
  "nbformat_minor": 0,
  "metadata": {
    "colab": {
      "provenance": [],
      "authorship_tag": "ABX9TyMBJq2+gr5mBFGmTmf3lQxE",
      "include_colab_link": true
    },
    "kernelspec": {
      "name": "python3",
      "display_name": "Python 3"
    },
    "language_info": {
      "name": "python"
    }
  },
  "cells": [
    {
      "cell_type": "markdown",
      "metadata": {
        "id": "view-in-github",
        "colab_type": "text"
      },
      "source": [
        "<a href=\"https://colab.research.google.com/github/islam-rabiul/Machine-Learning-Projects/blob/main/Lung_cancer_prediction_ipynb.ipynb\" target=\"_parent\"><img src=\"https://colab.research.google.com/assets/colab-badge.svg\" alt=\"Open In Colab\"/></a>"
      ]
    },
    {
      "cell_type": "code",
      "execution_count": null,
      "metadata": {
        "id": "s1ltMqHxO1ZC"
      },
      "outputs": [],
      "source": [
        "import numpy as np\n",
        "import pandas as pd\n",
        "import matplotlib.pyplot as plt\n",
        "import seaborn as sn"
      ]
    },
    {
      "cell_type": "code",
      "source": [],
      "metadata": {
        "id": "tvwO5kegC-ey"
      },
      "execution_count": null,
      "outputs": []
    },
    {
      "cell_type": "code",
      "source": [
        "dataset = pd.read_csv('lung cancer patient data sets.csv')"
      ],
      "metadata": {
        "id": "6gHElY-4Pq8l"
      },
      "execution_count": null,
      "outputs": []
    },
    {
      "cell_type": "markdown",
      "source": [
        "In this dataset,Male=1 & Female= 2"
      ],
      "metadata": {
        "id": "1z0R30FYSR-n"
      }
    },
    {
      "cell_type": "code",
      "source": [
        "dataset.head(10)"
      ],
      "metadata": {
        "colab": {
          "base_uri": "https://localhost:8080/",
          "height": 464
        },
        "id": "j4ePBieTP_W8",
        "outputId": "7cfb65bf-2629-472d-c038-dc1c27141dab"
      },
      "execution_count": null,
      "outputs": [
        {
          "output_type": "execute_result",
          "data": {
            "text/plain": [
              "   index Patient Id  Age  Gender  Air Pollution  Alcohol use  Dust Allergy  \\\n",
              "0      0         P1   33       1              2            4             5   \n",
              "1      1        P10   17       1              3            1             5   \n",
              "2      2       P100   35       1              4            5             6   \n",
              "3      3      P1000   37       1              7            7             7   \n",
              "4      4       P101   46       1              6            8             7   \n",
              "5      5       P102   35       1              4            5             6   \n",
              "6      6       P103   52       2              2            4             5   \n",
              "7      7       P104   28       2              3            1             4   \n",
              "8      8       P105   35       2              4            5             6   \n",
              "9      9       P106   46       1              2            3             4   \n",
              "\n",
              "   OccuPational Hazards  Genetic Risk  chronic Lung Disease  ...  Fatigue  \\\n",
              "0                     4             3                     2  ...        3   \n",
              "1                     3             4                     2  ...        1   \n",
              "2                     5             5                     4  ...        8   \n",
              "3                     7             6                     7  ...        4   \n",
              "4                     7             7                     6  ...        3   \n",
              "5                     5             5                     4  ...        8   \n",
              "6                     4             3                     2  ...        3   \n",
              "7                     3             2                     3  ...        3   \n",
              "8                     5             6                     5  ...        1   \n",
              "9                     2             4                     3  ...        1   \n",
              "\n",
              "   Weight Loss  Shortness of Breath  Wheezing  Swallowing Difficulty  \\\n",
              "0            4                    2         2                      3   \n",
              "1            3                    7         8                      6   \n",
              "2            7                    9         2                      1   \n",
              "3            2                    3         1                      4   \n",
              "4            2                    4         1                      4   \n",
              "5            7                    9         2                      1   \n",
              "6            4                    2         2                      3   \n",
              "7            2                    2         4                      2   \n",
              "8            4                    3         2                      4   \n",
              "9            2                    4         6                      5   \n",
              "\n",
              "   Clubbing of Finger Nails  Frequent Cold  Dry Cough  Snoring   Level  \n",
              "0                         1              2          3        4     Low  \n",
              "1                         2              1          7        2  Medium  \n",
              "2                         4              6          7        2    High  \n",
              "3                         5              6          7        5    High  \n",
              "4                         2              4          2        3    High  \n",
              "5                         4              6          7        2    High  \n",
              "6                         1              2          3        4     Low  \n",
              "7                         2              3          4        3     Low  \n",
              "8                         6              2          4        1  Medium  \n",
              "9                         4              2          1        5  Medium  \n",
              "\n",
              "[10 rows x 26 columns]"
            ],
            "text/html": [
              "\n",
              "  <div id=\"df-e8604a45-58ed-43e9-8d60-bdb483aaf9b2\" class=\"colab-df-container\">\n",
              "    <div>\n",
              "<style scoped>\n",
              "    .dataframe tbody tr th:only-of-type {\n",
              "        vertical-align: middle;\n",
              "    }\n",
              "\n",
              "    .dataframe tbody tr th {\n",
              "        vertical-align: top;\n",
              "    }\n",
              "\n",
              "    .dataframe thead th {\n",
              "        text-align: right;\n",
              "    }\n",
              "</style>\n",
              "<table border=\"1\" class=\"dataframe\">\n",
              "  <thead>\n",
              "    <tr style=\"text-align: right;\">\n",
              "      <th></th>\n",
              "      <th>index</th>\n",
              "      <th>Patient Id</th>\n",
              "      <th>Age</th>\n",
              "      <th>Gender</th>\n",
              "      <th>Air Pollution</th>\n",
              "      <th>Alcohol use</th>\n",
              "      <th>Dust Allergy</th>\n",
              "      <th>OccuPational Hazards</th>\n",
              "      <th>Genetic Risk</th>\n",
              "      <th>chronic Lung Disease</th>\n",
              "      <th>...</th>\n",
              "      <th>Fatigue</th>\n",
              "      <th>Weight Loss</th>\n",
              "      <th>Shortness of Breath</th>\n",
              "      <th>Wheezing</th>\n",
              "      <th>Swallowing Difficulty</th>\n",
              "      <th>Clubbing of Finger Nails</th>\n",
              "      <th>Frequent Cold</th>\n",
              "      <th>Dry Cough</th>\n",
              "      <th>Snoring</th>\n",
              "      <th>Level</th>\n",
              "    </tr>\n",
              "  </thead>\n",
              "  <tbody>\n",
              "    <tr>\n",
              "      <th>0</th>\n",
              "      <td>0</td>\n",
              "      <td>P1</td>\n",
              "      <td>33</td>\n",
              "      <td>1</td>\n",
              "      <td>2</td>\n",
              "      <td>4</td>\n",
              "      <td>5</td>\n",
              "      <td>4</td>\n",
              "      <td>3</td>\n",
              "      <td>2</td>\n",
              "      <td>...</td>\n",
              "      <td>3</td>\n",
              "      <td>4</td>\n",
              "      <td>2</td>\n",
              "      <td>2</td>\n",
              "      <td>3</td>\n",
              "      <td>1</td>\n",
              "      <td>2</td>\n",
              "      <td>3</td>\n",
              "      <td>4</td>\n",
              "      <td>Low</td>\n",
              "    </tr>\n",
              "    <tr>\n",
              "      <th>1</th>\n",
              "      <td>1</td>\n",
              "      <td>P10</td>\n",
              "      <td>17</td>\n",
              "      <td>1</td>\n",
              "      <td>3</td>\n",
              "      <td>1</td>\n",
              "      <td>5</td>\n",
              "      <td>3</td>\n",
              "      <td>4</td>\n",
              "      <td>2</td>\n",
              "      <td>...</td>\n",
              "      <td>1</td>\n",
              "      <td>3</td>\n",
              "      <td>7</td>\n",
              "      <td>8</td>\n",
              "      <td>6</td>\n",
              "      <td>2</td>\n",
              "      <td>1</td>\n",
              "      <td>7</td>\n",
              "      <td>2</td>\n",
              "      <td>Medium</td>\n",
              "    </tr>\n",
              "    <tr>\n",
              "      <th>2</th>\n",
              "      <td>2</td>\n",
              "      <td>P100</td>\n",
              "      <td>35</td>\n",
              "      <td>1</td>\n",
              "      <td>4</td>\n",
              "      <td>5</td>\n",
              "      <td>6</td>\n",
              "      <td>5</td>\n",
              "      <td>5</td>\n",
              "      <td>4</td>\n",
              "      <td>...</td>\n",
              "      <td>8</td>\n",
              "      <td>7</td>\n",
              "      <td>9</td>\n",
              "      <td>2</td>\n",
              "      <td>1</td>\n",
              "      <td>4</td>\n",
              "      <td>6</td>\n",
              "      <td>7</td>\n",
              "      <td>2</td>\n",
              "      <td>High</td>\n",
              "    </tr>\n",
              "    <tr>\n",
              "      <th>3</th>\n",
              "      <td>3</td>\n",
              "      <td>P1000</td>\n",
              "      <td>37</td>\n",
              "      <td>1</td>\n",
              "      <td>7</td>\n",
              "      <td>7</td>\n",
              "      <td>7</td>\n",
              "      <td>7</td>\n",
              "      <td>6</td>\n",
              "      <td>7</td>\n",
              "      <td>...</td>\n",
              "      <td>4</td>\n",
              "      <td>2</td>\n",
              "      <td>3</td>\n",
              "      <td>1</td>\n",
              "      <td>4</td>\n",
              "      <td>5</td>\n",
              "      <td>6</td>\n",
              "      <td>7</td>\n",
              "      <td>5</td>\n",
              "      <td>High</td>\n",
              "    </tr>\n",
              "    <tr>\n",
              "      <th>4</th>\n",
              "      <td>4</td>\n",
              "      <td>P101</td>\n",
              "      <td>46</td>\n",
              "      <td>1</td>\n",
              "      <td>6</td>\n",
              "      <td>8</td>\n",
              "      <td>7</td>\n",
              "      <td>7</td>\n",
              "      <td>7</td>\n",
              "      <td>6</td>\n",
              "      <td>...</td>\n",
              "      <td>3</td>\n",
              "      <td>2</td>\n",
              "      <td>4</td>\n",
              "      <td>1</td>\n",
              "      <td>4</td>\n",
              "      <td>2</td>\n",
              "      <td>4</td>\n",
              "      <td>2</td>\n",
              "      <td>3</td>\n",
              "      <td>High</td>\n",
              "    </tr>\n",
              "    <tr>\n",
              "      <th>5</th>\n",
              "      <td>5</td>\n",
              "      <td>P102</td>\n",
              "      <td>35</td>\n",
              "      <td>1</td>\n",
              "      <td>4</td>\n",
              "      <td>5</td>\n",
              "      <td>6</td>\n",
              "      <td>5</td>\n",
              "      <td>5</td>\n",
              "      <td>4</td>\n",
              "      <td>...</td>\n",
              "      <td>8</td>\n",
              "      <td>7</td>\n",
              "      <td>9</td>\n",
              "      <td>2</td>\n",
              "      <td>1</td>\n",
              "      <td>4</td>\n",
              "      <td>6</td>\n",
              "      <td>7</td>\n",
              "      <td>2</td>\n",
              "      <td>High</td>\n",
              "    </tr>\n",
              "    <tr>\n",
              "      <th>6</th>\n",
              "      <td>6</td>\n",
              "      <td>P103</td>\n",
              "      <td>52</td>\n",
              "      <td>2</td>\n",
              "      <td>2</td>\n",
              "      <td>4</td>\n",
              "      <td>5</td>\n",
              "      <td>4</td>\n",
              "      <td>3</td>\n",
              "      <td>2</td>\n",
              "      <td>...</td>\n",
              "      <td>3</td>\n",
              "      <td>4</td>\n",
              "      <td>2</td>\n",
              "      <td>2</td>\n",
              "      <td>3</td>\n",
              "      <td>1</td>\n",
              "      <td>2</td>\n",
              "      <td>3</td>\n",
              "      <td>4</td>\n",
              "      <td>Low</td>\n",
              "    </tr>\n",
              "    <tr>\n",
              "      <th>7</th>\n",
              "      <td>7</td>\n",
              "      <td>P104</td>\n",
              "      <td>28</td>\n",
              "      <td>2</td>\n",
              "      <td>3</td>\n",
              "      <td>1</td>\n",
              "      <td>4</td>\n",
              "      <td>3</td>\n",
              "      <td>2</td>\n",
              "      <td>3</td>\n",
              "      <td>...</td>\n",
              "      <td>3</td>\n",
              "      <td>2</td>\n",
              "      <td>2</td>\n",
              "      <td>4</td>\n",
              "      <td>2</td>\n",
              "      <td>2</td>\n",
              "      <td>3</td>\n",
              "      <td>4</td>\n",
              "      <td>3</td>\n",
              "      <td>Low</td>\n",
              "    </tr>\n",
              "    <tr>\n",
              "      <th>8</th>\n",
              "      <td>8</td>\n",
              "      <td>P105</td>\n",
              "      <td>35</td>\n",
              "      <td>2</td>\n",
              "      <td>4</td>\n",
              "      <td>5</td>\n",
              "      <td>6</td>\n",
              "      <td>5</td>\n",
              "      <td>6</td>\n",
              "      <td>5</td>\n",
              "      <td>...</td>\n",
              "      <td>1</td>\n",
              "      <td>4</td>\n",
              "      <td>3</td>\n",
              "      <td>2</td>\n",
              "      <td>4</td>\n",
              "      <td>6</td>\n",
              "      <td>2</td>\n",
              "      <td>4</td>\n",
              "      <td>1</td>\n",
              "      <td>Medium</td>\n",
              "    </tr>\n",
              "    <tr>\n",
              "      <th>9</th>\n",
              "      <td>9</td>\n",
              "      <td>P106</td>\n",
              "      <td>46</td>\n",
              "      <td>1</td>\n",
              "      <td>2</td>\n",
              "      <td>3</td>\n",
              "      <td>4</td>\n",
              "      <td>2</td>\n",
              "      <td>4</td>\n",
              "      <td>3</td>\n",
              "      <td>...</td>\n",
              "      <td>1</td>\n",
              "      <td>2</td>\n",
              "      <td>4</td>\n",
              "      <td>6</td>\n",
              "      <td>5</td>\n",
              "      <td>4</td>\n",
              "      <td>2</td>\n",
              "      <td>1</td>\n",
              "      <td>5</td>\n",
              "      <td>Medium</td>\n",
              "    </tr>\n",
              "  </tbody>\n",
              "</table>\n",
              "<p>10 rows × 26 columns</p>\n",
              "</div>\n",
              "    <div class=\"colab-df-buttons\">\n",
              "\n",
              "  <div class=\"colab-df-container\">\n",
              "    <button class=\"colab-df-convert\" onclick=\"convertToInteractive('df-e8604a45-58ed-43e9-8d60-bdb483aaf9b2')\"\n",
              "            title=\"Convert this dataframe to an interactive table.\"\n",
              "            style=\"display:none;\">\n",
              "\n",
              "  <svg xmlns=\"http://www.w3.org/2000/svg\" height=\"24px\" viewBox=\"0 -960 960 960\">\n",
              "    <path d=\"M120-120v-720h720v720H120Zm60-500h600v-160H180v160Zm220 220h160v-160H400v160Zm0 220h160v-160H400v160ZM180-400h160v-160H180v160Zm440 0h160v-160H620v160ZM180-180h160v-160H180v160Zm440 0h160v-160H620v160Z\"/>\n",
              "  </svg>\n",
              "    </button>\n",
              "\n",
              "  <style>\n",
              "    .colab-df-container {\n",
              "      display:flex;\n",
              "      gap: 12px;\n",
              "    }\n",
              "\n",
              "    .colab-df-convert {\n",
              "      background-color: #E8F0FE;\n",
              "      border: none;\n",
              "      border-radius: 50%;\n",
              "      cursor: pointer;\n",
              "      display: none;\n",
              "      fill: #1967D2;\n",
              "      height: 32px;\n",
              "      padding: 0 0 0 0;\n",
              "      width: 32px;\n",
              "    }\n",
              "\n",
              "    .colab-df-convert:hover {\n",
              "      background-color: #E2EBFA;\n",
              "      box-shadow: 0px 1px 2px rgba(60, 64, 67, 0.3), 0px 1px 3px 1px rgba(60, 64, 67, 0.15);\n",
              "      fill: #174EA6;\n",
              "    }\n",
              "\n",
              "    .colab-df-buttons div {\n",
              "      margin-bottom: 4px;\n",
              "    }\n",
              "\n",
              "    [theme=dark] .colab-df-convert {\n",
              "      background-color: #3B4455;\n",
              "      fill: #D2E3FC;\n",
              "    }\n",
              "\n",
              "    [theme=dark] .colab-df-convert:hover {\n",
              "      background-color: #434B5C;\n",
              "      box-shadow: 0px 1px 3px 1px rgba(0, 0, 0, 0.15);\n",
              "      filter: drop-shadow(0px 1px 2px rgba(0, 0, 0, 0.3));\n",
              "      fill: #FFFFFF;\n",
              "    }\n",
              "  </style>\n",
              "\n",
              "    <script>\n",
              "      const buttonEl =\n",
              "        document.querySelector('#df-e8604a45-58ed-43e9-8d60-bdb483aaf9b2 button.colab-df-convert');\n",
              "      buttonEl.style.display =\n",
              "        google.colab.kernel.accessAllowed ? 'block' : 'none';\n",
              "\n",
              "      async function convertToInteractive(key) {\n",
              "        const element = document.querySelector('#df-e8604a45-58ed-43e9-8d60-bdb483aaf9b2');\n",
              "        const dataTable =\n",
              "          await google.colab.kernel.invokeFunction('convertToInteractive',\n",
              "                                                    [key], {});\n",
              "        if (!dataTable) return;\n",
              "\n",
              "        const docLinkHtml = 'Like what you see? Visit the ' +\n",
              "          '<a target=\"_blank\" href=https://colab.research.google.com/notebooks/data_table.ipynb>data table notebook</a>'\n",
              "          + ' to learn more about interactive tables.';\n",
              "        element.innerHTML = '';\n",
              "        dataTable['output_type'] = 'display_data';\n",
              "        await google.colab.output.renderOutput(dataTable, element);\n",
              "        const docLink = document.createElement('div');\n",
              "        docLink.innerHTML = docLinkHtml;\n",
              "        element.appendChild(docLink);\n",
              "      }\n",
              "    </script>\n",
              "  </div>\n",
              "\n",
              "\n",
              "<div id=\"df-5f6ad79a-0acb-499d-b4a6-bafb5c2141fd\">\n",
              "  <button class=\"colab-df-quickchart\" onclick=\"quickchart('df-5f6ad79a-0acb-499d-b4a6-bafb5c2141fd')\"\n",
              "            title=\"Suggest charts\"\n",
              "            style=\"display:none;\">\n",
              "\n",
              "<svg xmlns=\"http://www.w3.org/2000/svg\" height=\"24px\"viewBox=\"0 0 24 24\"\n",
              "     width=\"24px\">\n",
              "    <g>\n",
              "        <path d=\"M19 3H5c-1.1 0-2 .9-2 2v14c0 1.1.9 2 2 2h14c1.1 0 2-.9 2-2V5c0-1.1-.9-2-2-2zM9 17H7v-7h2v7zm4 0h-2V7h2v10zm4 0h-2v-4h2v4z\"/>\n",
              "    </g>\n",
              "</svg>\n",
              "  </button>\n",
              "\n",
              "<style>\n",
              "  .colab-df-quickchart {\n",
              "      --bg-color: #E8F0FE;\n",
              "      --fill-color: #1967D2;\n",
              "      --hover-bg-color: #E2EBFA;\n",
              "      --hover-fill-color: #174EA6;\n",
              "      --disabled-fill-color: #AAA;\n",
              "      --disabled-bg-color: #DDD;\n",
              "  }\n",
              "\n",
              "  [theme=dark] .colab-df-quickchart {\n",
              "      --bg-color: #3B4455;\n",
              "      --fill-color: #D2E3FC;\n",
              "      --hover-bg-color: #434B5C;\n",
              "      --hover-fill-color: #FFFFFF;\n",
              "      --disabled-bg-color: #3B4455;\n",
              "      --disabled-fill-color: #666;\n",
              "  }\n",
              "\n",
              "  .colab-df-quickchart {\n",
              "    background-color: var(--bg-color);\n",
              "    border: none;\n",
              "    border-radius: 50%;\n",
              "    cursor: pointer;\n",
              "    display: none;\n",
              "    fill: var(--fill-color);\n",
              "    height: 32px;\n",
              "    padding: 0;\n",
              "    width: 32px;\n",
              "  }\n",
              "\n",
              "  .colab-df-quickchart:hover {\n",
              "    background-color: var(--hover-bg-color);\n",
              "    box-shadow: 0 1px 2px rgba(60, 64, 67, 0.3), 0 1px 3px 1px rgba(60, 64, 67, 0.15);\n",
              "    fill: var(--button-hover-fill-color);\n",
              "  }\n",
              "\n",
              "  .colab-df-quickchart-complete:disabled,\n",
              "  .colab-df-quickchart-complete:disabled:hover {\n",
              "    background-color: var(--disabled-bg-color);\n",
              "    fill: var(--disabled-fill-color);\n",
              "    box-shadow: none;\n",
              "  }\n",
              "\n",
              "  .colab-df-spinner {\n",
              "    border: 2px solid var(--fill-color);\n",
              "    border-color: transparent;\n",
              "    border-bottom-color: var(--fill-color);\n",
              "    animation:\n",
              "      spin 1s steps(1) infinite;\n",
              "  }\n",
              "\n",
              "  @keyframes spin {\n",
              "    0% {\n",
              "      border-color: transparent;\n",
              "      border-bottom-color: var(--fill-color);\n",
              "      border-left-color: var(--fill-color);\n",
              "    }\n",
              "    20% {\n",
              "      border-color: transparent;\n",
              "      border-left-color: var(--fill-color);\n",
              "      border-top-color: var(--fill-color);\n",
              "    }\n",
              "    30% {\n",
              "      border-color: transparent;\n",
              "      border-left-color: var(--fill-color);\n",
              "      border-top-color: var(--fill-color);\n",
              "      border-right-color: var(--fill-color);\n",
              "    }\n",
              "    40% {\n",
              "      border-color: transparent;\n",
              "      border-right-color: var(--fill-color);\n",
              "      border-top-color: var(--fill-color);\n",
              "    }\n",
              "    60% {\n",
              "      border-color: transparent;\n",
              "      border-right-color: var(--fill-color);\n",
              "    }\n",
              "    80% {\n",
              "      border-color: transparent;\n",
              "      border-right-color: var(--fill-color);\n",
              "      border-bottom-color: var(--fill-color);\n",
              "    }\n",
              "    90% {\n",
              "      border-color: transparent;\n",
              "      border-bottom-color: var(--fill-color);\n",
              "    }\n",
              "  }\n",
              "</style>\n",
              "\n",
              "  <script>\n",
              "    async function quickchart(key) {\n",
              "      const quickchartButtonEl =\n",
              "        document.querySelector('#' + key + ' button');\n",
              "      quickchartButtonEl.disabled = true;  // To prevent multiple clicks.\n",
              "      quickchartButtonEl.classList.add('colab-df-spinner');\n",
              "      try {\n",
              "        const charts = await google.colab.kernel.invokeFunction(\n",
              "            'suggestCharts', [key], {});\n",
              "      } catch (error) {\n",
              "        console.error('Error during call to suggestCharts:', error);\n",
              "      }\n",
              "      quickchartButtonEl.classList.remove('colab-df-spinner');\n",
              "      quickchartButtonEl.classList.add('colab-df-quickchart-complete');\n",
              "    }\n",
              "    (() => {\n",
              "      let quickchartButtonEl =\n",
              "        document.querySelector('#df-5f6ad79a-0acb-499d-b4a6-bafb5c2141fd button');\n",
              "      quickchartButtonEl.style.display =\n",
              "        google.colab.kernel.accessAllowed ? 'block' : 'none';\n",
              "    })();\n",
              "  </script>\n",
              "</div>\n",
              "\n",
              "    </div>\n",
              "  </div>\n"
            ]
          },
          "metadata": {},
          "execution_count": 64
        }
      ]
    },
    {
      "cell_type": "code",
      "source": [
        "sea = sn.FacetGrid(dataset, col = \"Level\", height = 4)\n",
        "sea.map(sn.histplot, \"Age\", kde=True)\n"
      ],
      "metadata": {
        "colab": {
          "base_uri": "https://localhost:8080/",
          "height": 353
        },
        "id": "eJj3acvjSN9a",
        "outputId": "600e0cd0-a19b-4ffd-da0e-39c836466e11"
      },
      "execution_count": null,
      "outputs": [
        {
          "output_type": "execute_result",
          "data": {
            "text/plain": [
              "<seaborn.axisgrid.FacetGrid at 0x7ae46026d3f0>"
            ]
          },
          "metadata": {},
          "execution_count": 96
        },
        {
          "output_type": "display_data",
          "data": {
            "text/plain": [
              "<Figure size 1200x400 with 3 Axes>"
            ],
            "image/png": "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\n"
          },
          "metadata": {}
        }
      ]
    },
    {
      "cell_type": "code",
      "source": [
        "dataset.shape"
      ],
      "metadata": {
        "colab": {
          "base_uri": "https://localhost:8080/"
        },
        "id": "Q3Lp7PlqQIim",
        "outputId": "cf5e56e0-ef04-42ea-d62a-c0ae24dc1bdb"
      },
      "execution_count": null,
      "outputs": [
        {
          "output_type": "execute_result",
          "data": {
            "text/plain": [
              "(1000, 26)"
            ]
          },
          "metadata": {},
          "execution_count": 66
        }
      ]
    },
    {
      "cell_type": "code",
      "source": [
        "dataset.info"
      ],
      "metadata": {
        "colab": {
          "base_uri": "https://localhost:8080/"
        },
        "id": "tvZdLq0OQS3S",
        "outputId": "946a82d3-a686-4f6c-d898-b8afbc91330f"
      },
      "execution_count": null,
      "outputs": [
        {
          "output_type": "execute_result",
          "data": {
            "text/plain": [
              "<bound method DataFrame.info of      index Patient Id  Age  Gender  Air Pollution  Alcohol use  Dust Allergy  \\\n",
              "0        0         P1   33       1              2            4             5   \n",
              "1        1        P10   17       1              3            1             5   \n",
              "2        2       P100   35       1              4            5             6   \n",
              "3        3      P1000   37       1              7            7             7   \n",
              "4        4       P101   46       1              6            8             7   \n",
              "..     ...        ...  ...     ...            ...          ...           ...   \n",
              "995    995       P995   44       1              6            7             7   \n",
              "996    996       P996   37       2              6            8             7   \n",
              "997    997       P997   25       2              4            5             6   \n",
              "998    998       P998   18       2              6            8             7   \n",
              "999    999       P999   47       1              6            5             6   \n",
              "\n",
              "     OccuPational Hazards  Genetic Risk  chronic Lung Disease  ...  Fatigue  \\\n",
              "0                       4             3                     2  ...        3   \n",
              "1                       3             4                     2  ...        1   \n",
              "2                       5             5                     4  ...        8   \n",
              "3                       7             6                     7  ...        4   \n",
              "4                       7             7                     6  ...        3   \n",
              "..                    ...           ...                   ...  ...      ...   \n",
              "995                     7             7                     6  ...        5   \n",
              "996                     7             7                     6  ...        9   \n",
              "997                     5             5                     4  ...        8   \n",
              "998                     7             7                     6  ...        3   \n",
              "999                     5             5                     4  ...        8   \n",
              "\n",
              "     Weight Loss  Shortness of Breath  Wheezing  Swallowing Difficulty  \\\n",
              "0              4                    2         2                      3   \n",
              "1              3                    7         8                      6   \n",
              "2              7                    9         2                      1   \n",
              "3              2                    3         1                      4   \n",
              "4              2                    4         1                      4   \n",
              "..           ...                  ...       ...                    ...   \n",
              "995            3                    2         7                      8   \n",
              "996            6                    5         7                      2   \n",
              "997            7                    9         2                      1   \n",
              "998            2                    4         1                      4   \n",
              "999            7                    9         2                      1   \n",
              "\n",
              "     Clubbing of Finger Nails  Frequent Cold  Dry Cough  Snoring   Level  \n",
              "0                           1              2          3        4     Low  \n",
              "1                           2              1          7        2  Medium  \n",
              "2                           4              6          7        2    High  \n",
              "3                           5              6          7        5    High  \n",
              "4                           2              4          2        3    High  \n",
              "..                        ...            ...        ...      ...     ...  \n",
              "995                         2              4          5        3    High  \n",
              "996                         4              3          1        4    High  \n",
              "997                         4              6          7        2    High  \n",
              "998                         2              4          2        3    High  \n",
              "999                         4              6          7        2    High  \n",
              "\n",
              "[1000 rows x 26 columns]>"
            ]
          },
          "metadata": {},
          "execution_count": 67
        }
      ]
    },
    {
      "cell_type": "code",
      "source": [
        "dataset.value_counts('Level')"
      ],
      "metadata": {
        "colab": {
          "base_uri": "https://localhost:8080/"
        },
        "id": "NIVtjWm6QX-J",
        "outputId": "3e30d1ab-0a88-4fc0-df28-7601e4233e1b"
      },
      "execution_count": null,
      "outputs": [
        {
          "output_type": "execute_result",
          "data": {
            "text/plain": [
              "Level\n",
              "High      365\n",
              "Medium    332\n",
              "Low       303\n",
              "dtype: int64"
            ]
          },
          "metadata": {},
          "execution_count": 68
        }
      ]
    },
    {
      "cell_type": "code",
      "source": [
        "dataset = dataset.drop(['index'], axis = 'columns', inplace=False)\n",
        "dataset = dataset.drop(['Patient Id'], axis = 'columns',inplace=False)"
      ],
      "metadata": {
        "id": "EnKu0KCRQ6fG"
      },
      "execution_count": null,
      "outputs": []
    },
    {
      "cell_type": "code",
      "source": [
        "dataset=dataset.replace({'Level':{'Low': 1, 'Medium': 2, 'High': 3}})"
      ],
      "metadata": {
        "id": "BWsXAsSDRfLc"
      },
      "execution_count": null,
      "outputs": []
    },
    {
      "cell_type": "markdown",
      "source": [
        "Data preprocessing\n"
      ],
      "metadata": {
        "id": "UGAb8wpSSxnN"
      }
    },
    {
      "cell_type": "code",
      "source": [
        "X = dataset.iloc[:, :-1].values\n",
        "y = dataset.iloc[:, -1].values"
      ],
      "metadata": {
        "id": "PrQqvfNkRwoo"
      },
      "execution_count": null,
      "outputs": []
    },
    {
      "cell_type": "code",
      "source": [
        "X.shape"
      ],
      "metadata": {
        "colab": {
          "base_uri": "https://localhost:8080/"
        },
        "id": "3lBK-jofSUVT",
        "outputId": "ee61149b-f840-4b91-9c25-7ee1f86e2465"
      },
      "execution_count": null,
      "outputs": [
        {
          "output_type": "execute_result",
          "data": {
            "text/plain": [
              "(1000, 23)"
            ]
          },
          "metadata": {},
          "execution_count": 72
        }
      ]
    },
    {
      "cell_type": "code",
      "source": [
        "y.shape"
      ],
      "metadata": {
        "colab": {
          "base_uri": "https://localhost:8080/"
        },
        "id": "Ix91qW9CSYsr",
        "outputId": "b7f8c9e8-8c06-4f9d-f8aa-2a3cdef47a82"
      },
      "execution_count": null,
      "outputs": [
        {
          "output_type": "execute_result",
          "data": {
            "text/plain": [
              "(1000,)"
            ]
          },
          "metadata": {},
          "execution_count": 73
        }
      ]
    },
    {
      "cell_type": "code",
      "source": [
        "\n"
      ],
      "metadata": {
        "id": "TOEqWVFl5PR2"
      },
      "execution_count": null,
      "outputs": []
    },
    {
      "cell_type": "code",
      "source": [
        "dataset.columns"
      ],
      "metadata": {
        "colab": {
          "base_uri": "https://localhost:8080/"
        },
        "id": "uHlLUXSm5zNK",
        "outputId": "eb32afb9-34de-432d-bdde-a9bfe74c483c"
      },
      "execution_count": null,
      "outputs": [
        {
          "output_type": "execute_result",
          "data": {
            "text/plain": [
              "Index(['Age', 'Gender', 'Air Pollution', 'Alcohol use', 'Dust Allergy',\n",
              "       'OccuPational Hazards', 'Genetic Risk', 'chronic Lung Disease',\n",
              "       'Balanced Diet', 'Obesity', 'Smoking', 'Passive Smoker', 'Chest Pain',\n",
              "       'Coughing of Blood', 'Fatigue', 'Weight Loss', 'Shortness of Breath',\n",
              "       'Wheezing', 'Swallowing Difficulty', 'Clubbing of Finger Nails',\n",
              "       'Frequent Cold', 'Dry Cough', 'Snoring', 'Level'],\n",
              "      dtype='object')"
            ]
          },
          "metadata": {},
          "execution_count": 74
        }
      ]
    },
    {
      "cell_type": "code",
      "source": [
        "print(X)"
      ],
      "metadata": {
        "colab": {
          "base_uri": "https://localhost:8080/"
        },
        "id": "L5l9PABfyEvg",
        "outputId": "1aaefa56-74a2-4c2e-b05a-2bb6c144767d"
      },
      "execution_count": null,
      "outputs": [
        {
          "output_type": "stream",
          "name": "stdout",
          "text": [
            "[[33  1  2 ...  2  3  4]\n",
            " [17  1  3 ...  1  7  2]\n",
            " [35  1  4 ...  6  7  2]\n",
            " ...\n",
            " [25  2  4 ...  6  7  2]\n",
            " [18  2  6 ...  4  2  3]\n",
            " [47  1  6 ...  6  7  2]]\n"
          ]
        }
      ]
    },
    {
      "cell_type": "code",
      "source": [
        "print(y)"
      ],
      "metadata": {
        "colab": {
          "base_uri": "https://localhost:8080/"
        },
        "id": "jmukSU9byNdf",
        "outputId": "a247c75e-20de-48a8-f35f-f908744547cd"
      },
      "execution_count": null,
      "outputs": [
        {
          "output_type": "stream",
          "name": "stdout",
          "text": [
            "[1 2 3 3 3 3 1 1 2 2 3 3 2 3 1 2 2 3 3 2 3 3 3 3 3 2 2 2 3 2 3 3 2 1 1 2 1\n",
            " 1 1 1 1 1 1 1 1 1 3 1 1 1 1 1 1 1 1 1 1 3 1 1 1 1 1 2 2 2 2 2 3 2 2 2 2 2\n",
            " 2 2 2 2 2 3 2 2 2 2 2 2 2 3 3 3 2 3 3 3 3 3 3 3 3 3 3 2 3 3 3 3 3 3 3 3 3\n",
            " 3 1 2 3 3 3 1 1 2 2 3 3 2 3 1 2 2 3 3 2 3 3 3 3 2 2 2 2 3 2 3 3 2 1 1 3 1\n",
            " 1 1 1 1 1 1 1 1 1 3 1 1 1 1 1 1 1 1 1 1 2 1 1 1 1 1 2 2 2 2 2 1 2 2 2 2 2\n",
            " 2 2 2 2 2 1 2 2 2 2 2 2 2 3 3 3 1 3 3 3 3 3 3 3 3 3 3 1 3 3 3 3 3 3 3 3 3\n",
            " 3 2 1 3 3 3 1 1 2 2 3 3 2 1 1 2 2 3 3 2 3 3 3 3 1 2 2 2 3 2 3 3 2 1 1 1 1\n",
            " 1 1 1 1 1 1 1 1 1 1 1 1 1 1 1 1 1 1 1 1 1 1 1 1 1 1 2 2 2 2 2 1 2 2 2 2 2\n",
            " 2 2 2 2 2 1 2 2 2 2 2 2 2 3 3 3 1 3 3 3 3 3 3 3 3 3 3 1 3 3 3 3 3 3 3 3 3\n",
            " 3 2 1 3 3 3 1 1 2 2 3 3 2 1 1 2 2 3 3 2 3 3 3 3 1 2 2 2 3 2 3 3 2 1 1 1 1\n",
            " 1 1 1 1 1 1 1 1 1 1 1 1 1 1 1 1 1 1 1 1 1 1 1 1 1 1 2 2 2 2 2 1 2 2 2 2 2\n",
            " 2 2 2 2 2 1 2 2 2 2 2 2 2 3 3 3 1 3 3 3 3 3 3 3 3 3 3 1 3 3 3 3 3 3 3 3 3\n",
            " 3 3 1 3 3 3 1 1 2 2 3 3 2 1 1 2 2 3 3 2 3 3 3 3 1 2 2 2 3 2 3 3 2 1 1 2 1\n",
            " 1 1 1 1 1 1 1 1 1 2 1 1 1 1 1 1 1 1 1 1 2 1 1 1 1 1 2 2 2 2 2 2 2 2 2 2 2\n",
            " 2 2 2 2 2 2 2 2 2 2 2 2 2 3 3 3 2 3 3 3 3 3 3 3 3 3 3 2 3 3 3 3 3 3 3 3 3\n",
            " 3 3 2 3 3 3 1 1 2 2 3 3 2 2 1 2 2 3 3 2 3 3 3 3 2 2 2 2 3 2 3 3 2 1 1 2 1\n",
            " 1 1 1 1 1 1 1 1 1 2 1 1 1 1 1 1 1 1 1 1 2 1 1 1 1 1 2 2 2 2 2 2 2 2 2 2 2\n",
            " 2 2 2 2 2 2 2 2 2 2 2 2 2 3 3 3 2 3 3 3 3 3 3 3 3 3 3 2 3 3 3 3 3 3 3 3 3\n",
            " 3 2 2 3 3 3 1 1 2 2 3 3 2 2 1 2 2 3 3 2 3 3 3 3 2 2 2 2 3 2 3 3 2 1 1 2 1\n",
            " 1 1 1 1 1 1 1 1 1 2 1 1 1 1 1 1 1 1 1 1 3 1 1 1 1 1 2 2 2 2 2 3 2 2 2 2 2\n",
            " 2 2 2 2 2 3 2 2 2 2 2 2 2 3 3 3 3 3 3 3 3 3 3 3 3 3 3 3 3 3 3 3 3 3 3 3 3\n",
            " 3 1 3 3 3 3 1 1 2 2 3 3 2 3 1 2 2 3 3 2 3 3 3 3 3 2 2 2 3 2 3 3 2 1 1 3 1\n",
            " 1 1 1 1 1 1 1 1 1 3 1 1 1 1 1 1 1 1 1 1 3 1 1 1 1 1 2 2 2 2 2 3 2 2 2 2 2\n",
            " 2 2 2 2 2 3 2 2 2 2 2 2 2 3 3 3 3 3 3 3 3 3 3 3 3 3 3 3 3 3 3 3 3 3 3 3 3\n",
            " 3 2 3 3 3 3 1 1 2 2 3 3 2 3 1 2 2 3 3 2 3 3 3 3 3 2 2 2 3 2 3 3 2 1 1 3 1\n",
            " 1 1 1 1 1 1 1 1 1 3 1 1 1 1 1 1 1 1 1 1 3 1 1 1 1 1 2 2 2 2 2 3 2 2 2 2 2\n",
            " 2 2 2 2 2 3 2 2 2 2 2 2 2 3 1 1 3 1 3 3 3 2 2 3 3 3 3 3 3 3 3 3 3 3 3 3 3\n",
            " 3]\n"
          ]
        }
      ]
    },
    {
      "cell_type": "code",
      "source": [
        "from sklearn.model_selection import train_test_split\n",
        "X_train, X_test, y_train, y_test = train_test_split(X, y, test_size = 0.2, random_state = 42)"
      ],
      "metadata": {
        "id": "31zyChCtSuZy"
      },
      "execution_count": null,
      "outputs": []
    },
    {
      "cell_type": "markdown",
      "source": [
        "Feature Scaling\n"
      ],
      "metadata": {
        "id": "P4OtGSwBXJhk"
      }
    },
    {
      "cell_type": "code",
      "source": [
        "from sklearn.preprocessing import StandardScaler\n",
        "sc = StandardScaler()\n",
        "X_train = sc.fit_transform(X_train)\n",
        "X_test = sc.transform(X_test)"
      ],
      "metadata": {
        "id": "5kYBeLwHWMPY"
      },
      "execution_count": null,
      "outputs": []
    },
    {
      "cell_type": "code",
      "source": [
        "#Applying Principal Component Analysis (PCA) for dimensionality Reduction\n",
        "\n",
        "from sklearn.decomposition import PCA\n",
        "pca = PCA(0.95)\n",
        "X_train = pca.fit_transform(X_train)\n",
        "X_test = pca.transform(X_test)"
      ],
      "metadata": {
        "id": "1_hmgFXZXmCG"
      },
      "execution_count": null,
      "outputs": []
    },
    {
      "cell_type": "code",
      "source": [
        "X_train.shape, X_test.shape"
      ],
      "metadata": {
        "colab": {
          "base_uri": "https://localhost:8080/"
        },
        "id": "i-bCBGGcdilm",
        "outputId": "e1a2b0ef-d840-4491-e28f-7c10461a208a"
      },
      "execution_count": null,
      "outputs": [
        {
          "output_type": "execute_result",
          "data": {
            "text/plain": [
              "((800, 14), (200, 14))"
            ]
          },
          "metadata": {},
          "execution_count": 80
        }
      ]
    },
    {
      "cell_type": "markdown",
      "source": [
        "Training the RandomForestmodel on the whole dataset"
      ],
      "metadata": {
        "id": "xRsY7dHvYF0M"
      }
    },
    {
      "cell_type": "code",
      "source": [
        "from sklearn.ensemble import RandomForestClassifier\n",
        "regressor = RandomForestClassifier()\n",
        "\n",
        "regressor.fit(X_train, y_train)"
      ],
      "metadata": {
        "colab": {
          "base_uri": "https://localhost:8080/",
          "height": 74
        },
        "id": "qp1o-tkxX3FI",
        "outputId": "1c78e423-f46c-4dfc-84b9-6941b921e5fd"
      },
      "execution_count": null,
      "outputs": [
        {
          "output_type": "execute_result",
          "data": {
            "text/plain": [
              "RandomForestClassifier()"
            ],
            "text/html": [
              "<style>#sk-container-id-3 {color: black;background-color: white;}#sk-container-id-3 pre{padding: 0;}#sk-container-id-3 div.sk-toggleable {background-color: white;}#sk-container-id-3 label.sk-toggleable__label {cursor: pointer;display: block;width: 100%;margin-bottom: 0;padding: 0.3em;box-sizing: border-box;text-align: center;}#sk-container-id-3 label.sk-toggleable__label-arrow:before {content: \"▸\";float: left;margin-right: 0.25em;color: #696969;}#sk-container-id-3 label.sk-toggleable__label-arrow:hover:before {color: black;}#sk-container-id-3 div.sk-estimator:hover label.sk-toggleable__label-arrow:before {color: black;}#sk-container-id-3 div.sk-toggleable__content {max-height: 0;max-width: 0;overflow: hidden;text-align: left;background-color: #f0f8ff;}#sk-container-id-3 div.sk-toggleable__content pre {margin: 0.2em;color: black;border-radius: 0.25em;background-color: #f0f8ff;}#sk-container-id-3 input.sk-toggleable__control:checked~div.sk-toggleable__content {max-height: 200px;max-width: 100%;overflow: auto;}#sk-container-id-3 input.sk-toggleable__control:checked~label.sk-toggleable__label-arrow:before {content: \"▾\";}#sk-container-id-3 div.sk-estimator input.sk-toggleable__control:checked~label.sk-toggleable__label {background-color: #d4ebff;}#sk-container-id-3 div.sk-label input.sk-toggleable__control:checked~label.sk-toggleable__label {background-color: #d4ebff;}#sk-container-id-3 input.sk-hidden--visually {border: 0;clip: rect(1px 1px 1px 1px);clip: rect(1px, 1px, 1px, 1px);height: 1px;margin: -1px;overflow: hidden;padding: 0;position: absolute;width: 1px;}#sk-container-id-3 div.sk-estimator {font-family: monospace;background-color: #f0f8ff;border: 1px dotted black;border-radius: 0.25em;box-sizing: border-box;margin-bottom: 0.5em;}#sk-container-id-3 div.sk-estimator:hover {background-color: #d4ebff;}#sk-container-id-3 div.sk-parallel-item::after {content: \"\";width: 100%;border-bottom: 1px solid gray;flex-grow: 1;}#sk-container-id-3 div.sk-label:hover label.sk-toggleable__label {background-color: #d4ebff;}#sk-container-id-3 div.sk-serial::before {content: \"\";position: absolute;border-left: 1px solid gray;box-sizing: border-box;top: 0;bottom: 0;left: 50%;z-index: 0;}#sk-container-id-3 div.sk-serial {display: flex;flex-direction: column;align-items: center;background-color: white;padding-right: 0.2em;padding-left: 0.2em;position: relative;}#sk-container-id-3 div.sk-item {position: relative;z-index: 1;}#sk-container-id-3 div.sk-parallel {display: flex;align-items: stretch;justify-content: center;background-color: white;position: relative;}#sk-container-id-3 div.sk-item::before, #sk-container-id-3 div.sk-parallel-item::before {content: \"\";position: absolute;border-left: 1px solid gray;box-sizing: border-box;top: 0;bottom: 0;left: 50%;z-index: -1;}#sk-container-id-3 div.sk-parallel-item {display: flex;flex-direction: column;z-index: 1;position: relative;background-color: white;}#sk-container-id-3 div.sk-parallel-item:first-child::after {align-self: flex-end;width: 50%;}#sk-container-id-3 div.sk-parallel-item:last-child::after {align-self: flex-start;width: 50%;}#sk-container-id-3 div.sk-parallel-item:only-child::after {width: 0;}#sk-container-id-3 div.sk-dashed-wrapped {border: 1px dashed gray;margin: 0 0.4em 0.5em 0.4em;box-sizing: border-box;padding-bottom: 0.4em;background-color: white;}#sk-container-id-3 div.sk-label label {font-family: monospace;font-weight: bold;display: inline-block;line-height: 1.2em;}#sk-container-id-3 div.sk-label-container {text-align: center;}#sk-container-id-3 div.sk-container {/* jupyter's `normalize.less` sets `[hidden] { display: none; }` but bootstrap.min.css set `[hidden] { display: none !important; }` so we also need the `!important` here to be able to override the default hidden behavior on the sphinx rendered scikit-learn.org. See: https://github.com/scikit-learn/scikit-learn/issues/21755 */display: inline-block !important;position: relative;}#sk-container-id-3 div.sk-text-repr-fallback {display: none;}</style><div id=\"sk-container-id-3\" class=\"sk-top-container\"><div class=\"sk-text-repr-fallback\"><pre>RandomForestClassifier()</pre><b>In a Jupyter environment, please rerun this cell to show the HTML representation or trust the notebook. <br />On GitHub, the HTML representation is unable to render, please try loading this page with nbviewer.org.</b></div><div class=\"sk-container\" hidden><div class=\"sk-item\"><div class=\"sk-estimator sk-toggleable\"><input class=\"sk-toggleable__control sk-hidden--visually\" id=\"sk-estimator-id-3\" type=\"checkbox\" checked><label for=\"sk-estimator-id-3\" class=\"sk-toggleable__label sk-toggleable__label-arrow\">RandomForestClassifier</label><div class=\"sk-toggleable__content\"><pre>RandomForestClassifier()</pre></div></div></div></div></div>"
            ]
          },
          "metadata": {},
          "execution_count": 81
        }
      ]
    },
    {
      "cell_type": "markdown",
      "source": [
        "Predict the test result"
      ],
      "metadata": {
        "id": "uUymfaRzbiEP"
      }
    },
    {
      "cell_type": "code",
      "source": [
        "y_pred = regressor.predict(X_test)\n",
        "print(np.concatenate((y_pred.reshape(len(y_pred),1), y_test.reshape(len(y_test),1)),1))"
      ],
      "metadata": {
        "colab": {
          "base_uri": "https://localhost:8080/"
        },
        "id": "18Cf1RYGx1dN",
        "outputId": "30cb9a4b-7915-407f-a147-1a7f16fa41ed"
      },
      "execution_count": null,
      "outputs": [
        {
          "output_type": "stream",
          "name": "stdout",
          "text": [
            "[[2 2]\n",
            " [2 2]\n",
            " [2 2]\n",
            " [3 3]\n",
            " [2 2]\n",
            " [2 2]\n",
            " [2 2]\n",
            " [2 2]\n",
            " [2 2]\n",
            " [2 2]\n",
            " [1 1]\n",
            " [2 2]\n",
            " [2 2]\n",
            " [2 2]\n",
            " [1 1]\n",
            " [3 3]\n",
            " [1 1]\n",
            " [3 3]\n",
            " [3 3]\n",
            " [3 3]\n",
            " [3 3]\n",
            " [2 2]\n",
            " [1 1]\n",
            " [2 2]\n",
            " [3 3]\n",
            " [1 1]\n",
            " [2 2]\n",
            " [3 3]\n",
            " [1 1]\n",
            " [1 1]\n",
            " [1 1]\n",
            " [3 3]\n",
            " [2 2]\n",
            " [1 1]\n",
            " [1 1]\n",
            " [3 3]\n",
            " [3 3]\n",
            " [2 2]\n",
            " [3 3]\n",
            " [1 1]\n",
            " [3 3]\n",
            " [3 3]\n",
            " [1 1]\n",
            " [2 2]\n",
            " [2 2]\n",
            " [1 1]\n",
            " [1 1]\n",
            " [2 2]\n",
            " [3 3]\n",
            " [1 1]\n",
            " [2 2]\n",
            " [3 3]\n",
            " [1 1]\n",
            " [3 3]\n",
            " [3 3]\n",
            " [3 3]\n",
            " [1 1]\n",
            " [3 3]\n",
            " [3 3]\n",
            " [1 1]\n",
            " [2 2]\n",
            " [1 1]\n",
            " [3 3]\n",
            " [3 3]\n",
            " [1 1]\n",
            " [2 2]\n",
            " [3 3]\n",
            " [3 3]\n",
            " [2 2]\n",
            " [3 3]\n",
            " [3 3]\n",
            " [1 1]\n",
            " [2 2]\n",
            " [2 2]\n",
            " [2 2]\n",
            " [2 2]\n",
            " [3 3]\n",
            " [1 1]\n",
            " [1 1]\n",
            " [2 2]\n",
            " [2 2]\n",
            " [2 2]\n",
            " [1 1]\n",
            " [2 2]\n",
            " [3 3]\n",
            " [3 3]\n",
            " [3 3]\n",
            " [1 1]\n",
            " [3 3]\n",
            " [3 3]\n",
            " [1 1]\n",
            " [1 1]\n",
            " [2 2]\n",
            " [3 3]\n",
            " [3 3]\n",
            " [3 3]\n",
            " [3 3]\n",
            " [3 3]\n",
            " [2 2]\n",
            " [1 1]\n",
            " [1 1]\n",
            " [3 3]\n",
            " [1 1]\n",
            " [1 1]\n",
            " [2 2]\n",
            " [3 3]\n",
            " [3 3]\n",
            " [2 2]\n",
            " [2 2]\n",
            " [2 2]\n",
            " [2 2]\n",
            " [3 3]\n",
            " [3 3]\n",
            " [1 1]\n",
            " [2 2]\n",
            " [3 3]\n",
            " [2 2]\n",
            " [3 3]\n",
            " [2 2]\n",
            " [2 2]\n",
            " [3 3]\n",
            " [3 3]\n",
            " [1 1]\n",
            " [1 1]\n",
            " [2 2]\n",
            " [3 3]\n",
            " [3 3]\n",
            " [3 3]\n",
            " [3 3]\n",
            " [3 3]\n",
            " [1 1]\n",
            " [2 2]\n",
            " [1 1]\n",
            " [3 3]\n",
            " [2 2]\n",
            " [1 1]\n",
            " [2 2]\n",
            " [3 3]\n",
            " [2 2]\n",
            " [2 2]\n",
            " [1 1]\n",
            " [2 2]\n",
            " [1 1]\n",
            " [1 1]\n",
            " [3 3]\n",
            " [2 2]\n",
            " [1 1]\n",
            " [3 3]\n",
            " [1 1]\n",
            " [3 3]\n",
            " [3 3]\n",
            " [1 1]\n",
            " [1 1]\n",
            " [3 3]\n",
            " [1 1]\n",
            " [3 3]\n",
            " [3 3]\n",
            " [3 3]\n",
            " [1 1]\n",
            " [3 3]\n",
            " [1 1]\n",
            " [3 3]\n",
            " [3 3]\n",
            " [3 3]\n",
            " [3 3]\n",
            " [2 2]\n",
            " [2 2]\n",
            " [3 3]\n",
            " [3 3]\n",
            " [3 3]\n",
            " [3 3]\n",
            " [2 2]\n",
            " [3 3]\n",
            " [3 3]\n",
            " [1 1]\n",
            " [3 3]\n",
            " [2 2]\n",
            " [1 1]\n",
            " [2 2]\n",
            " [3 3]\n",
            " [1 1]\n",
            " [3 3]\n",
            " [1 1]\n",
            " [2 2]\n",
            " [3 3]\n",
            " [2 2]\n",
            " [3 3]\n",
            " [2 2]\n",
            " [1 1]\n",
            " [2 2]\n",
            " [1 1]\n",
            " [1 1]\n",
            " [2 2]\n",
            " [3 3]\n",
            " [3 3]\n",
            " [2 2]\n",
            " [3 3]\n",
            " [3 3]\n",
            " [1 1]\n",
            " [2 2]]\n"
          ]
        }
      ]
    },
    {
      "cell_type": "markdown",
      "source": [
        "Making the confusion matrix"
      ],
      "metadata": {
        "id": "VwM5ZMRwb1Ka"
      }
    },
    {
      "cell_type": "code",
      "source": [
        "from sklearn.metrics import accuracy_score ,confusion_matrix ,classification_report"
      ],
      "metadata": {
        "id": "1XcGErH4oZ0L"
      },
      "execution_count": null,
      "outputs": []
    },
    {
      "cell_type": "code",
      "source": [
        "cm = confusion_matrix(y_test,y_pred)\n",
        "cm"
      ],
      "metadata": {
        "colab": {
          "base_uri": "https://localhost:8080/"
        },
        "id": "-qBQyLJypO4e",
        "outputId": "ff6db3f2-ce46-44a2-dae6-c0fb1b0eefe8"
      },
      "execution_count": null,
      "outputs": [
        {
          "output_type": "execute_result",
          "data": {
            "text/plain": [
              "array([[55,  0,  0],\n",
              "       [ 0, 63,  0],\n",
              "       [ 0,  0, 82]])"
            ]
          },
          "metadata": {},
          "execution_count": 84
        }
      ]
    },
    {
      "cell_type": "code",
      "source": [
        "plt.figure(figsize=(9,9))\n",
        "sn.heatmap(cm,annot = True ,linewidth=.5)\n",
        "plt.xlabel('Acual value')\n",
        "plt.ylabel('Predicted value')\n",
        "plt.title('Confusion matrix')"
      ],
      "metadata": {
        "colab": {
          "base_uri": "https://localhost:8080/",
          "height": 812
        },
        "id": "E0ePeI6Cp3NS",
        "outputId": "cc30e9bf-9123-4217-bc9b-b45ab1a2dbd3"
      },
      "execution_count": null,
      "outputs": [
        {
          "output_type": "execute_result",
          "data": {
            "text/plain": [
              "Text(0.5, 1.0, 'Confusion matrix')"
            ]
          },
          "metadata": {},
          "execution_count": 85
        },
        {
          "output_type": "display_data",
          "data": {
            "text/plain": [
              "<Figure size 900x900 with 2 Axes>"
            ],
            "image/png": "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\n"
          },
          "metadata": {}
        }
      ]
    },
    {

      "metadata": {
        "id": "Rdg-0w50qWbW"
     
"cell_type": "markdown",
      "source": [
        "Predict the random result"
      ],}

    },
    {
      "cell_type": "code",
      "source": [
        "a=accuracy_score(y_test, y_pred)\n",
        "print(f'accuracy: {a*100:.2f}%')"
      ],
      "metadata": {
        "colab": {
          "base_uri": "https://localhost:8080/"
        },
        "id": "jIR_cm_HrBhR",
        "outputId": "adb5dbe2-8bcb-445a-fe3e-62dac903b596"
      },
      "execution_count": null,
      "outputs": [
        {
          "output_type": "stream",
          "name": "stdout",
          "text": [
            "accuracy: 100.00%\n"
          ]
        }
      ]
    },
    {      
      "cell_type": "code",
      "source": [
        "k=(regressor.predict(pca.transform(sc.transform([[33,1,2,1,5,4,3,2,2,4,3,2,2,4,3,4,2,2,3,1,2,3,4]]))))\n",
        "if (k == 3):\n",
        "  print(\"high\")\n",
        "elif(k==2):\n",
        "  print(\"medium\")\n",
        "else:\n",
        "  print(\"low\")"
      ],
      "metadata": {
        "colab": {
          "base_uri": "https://localhost:8080/"
        },
        "id": "enWCwEFWzQYv",
        "outputId": "e14071a0-6cc8-4410-e2a7-d0a67326545d"
      },
      "execution_count": null,
      "outputs": [
        {
          "output_type": "stream",
          "name": "stdout",
          "text": [
            "low\n"
          ]
        }
      ]
    },
    {
      "cell_type": "code",
      "source": [
        "k=(regressor.predict(pca.transform(sc.transform([[46,1,6,8,7,7,7,6,7,7,8,7,7,9,3,2,4,1,4,2,4,2,3]]))))\n",
        "if (k == 3):\n",
        "  print(\"high\")\n",
        "elif(k==2):\n",
        "  print(\"medium\")\n",
        "else:\n",
        "  print(\"low\")"
      ],
      "metadata": {
        "colab": {
          "base_uri": "https://localhost:8080/"
        },
        "id": "Aiu2Ucm79706",
        "outputId": "d05c73c5-af24-46e7-9d8d-516e432ee184"
      },
      "execution_count": null,
      "outputs": [
        {
          "output_type": "stream",
          "name": "stdout",
          "text": [
            "high\n"
          ]
        }
      ]
    },
    {
      "cell_type": "code",
      "source": [
        "k = (regressor.predict(pca.transform(sc.transform([[47, 1, 6, 5, 6, 5, 5, 4, 6, 7, 2, 3, 4, 8, 8, 7, 9, 2, 1, 4, 6, 7, 2]]))))\n",
        "if (k == 3):\n",
        "  print(\"high\")\n",
        "elif(k==2):\n",
        "  print(\"medium\")\n",
        "else:\n",
        "  print(\"low\")\n"
      ],
      "metadata": {
        "colab": {
          "base_uri": "https://localhost:8080/"
        },
        "id": "gVf9kui3FKd-",
        "outputId": "68dda350-ca95-4e7e-e42a-b490c70bbf29"
      },
      "execution_count": null,
      "outputs": [
        {
          "output_type": "stream",
          "name": "stdout",
          "text": [
            "high\n"
          ]
        }
      ]
    },
    {
      "cell_type": "code",
      "source": [],
      "metadata": {
        "id": "w1tOGo3YFx-T"
      },
      "execution_count": null,
      "outputs": []
    }
  ]
}
